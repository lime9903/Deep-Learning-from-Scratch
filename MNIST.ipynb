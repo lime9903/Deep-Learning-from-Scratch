{
 "cells": [
  {
   "cell_type": "markdown",
   "source": [
    "# MNIST"
   ],
   "metadata": {}
  },
  {
   "cell_type": "code",
   "execution_count": 4,
   "source": [
    "import numpy as np\r\n",
    "\r\n",
    "# 데이터 불러오기\r\n",
    "train_data = np.loadtxt(\"C:/Users/user/Desktop/work/Deep-Learning-from-Scratch/Chapter_3/mnist_train.csv\", delimiter=',', dtype=np.float32)\r\n",
    "test_data = np.loadtxt(\"C:/Users/user/Desktop/work/Deep-Learning-from-Scratch/Chapter_3/mnist_test.csv\", delimiter=',', dtype=np.float32)\r\n",
    "\r\n",
    "print(train_data.shape, test_data.shape)"
   ],
   "outputs": [
    {
     "output_type": "stream",
     "name": "stdout",
     "text": [
      "(60000, 785) (10000, 785)\n"
     ]
    }
   ],
   "metadata": {}
  },
  {
   "cell_type": "code",
   "execution_count": 5,
   "source": [
    "input_train_data = train_data[:, 1:]\r\n",
    "target_train_data = train_data[:, 0]\r\n",
    "input_test_data = test_data[:, 1:]\r\n",
    "target_test_data = test_data[:, 0]\r\n",
    "\r\n",
    "print(input_train_data.shape, target_train_data.shape, input_test_data.shape, target_test_data.shape)"
   ],
   "outputs": [
    {
     "output_type": "stream",
     "name": "stdout",
     "text": [
      "(60000, 784) (60000,) (10000, 784) (10000,)\n"
     ]
    }
   ],
   "metadata": {}
  },
  {
   "cell_type": "markdown",
   "source": [
    "## 이미지 출력하기"
   ],
   "metadata": {}
  },
  {
   "cell_type": "code",
   "execution_count": 14,
   "source": [
    "from PIL import Image\r\n",
    "def img_show(img):\r\n",
    "    pil_img = Image.fromarray(np.uint8(img))\r\n",
    "    pil_img.show()\r\n",
    "\r\n",
    "img = input_train_data[0]\r\n",
    "label = target_train_data[0]\r\n",
    "print(label)\r\n",
    "\r\n",
    "img = img.reshape(28, 28)\r\n",
    "img_show(img)"
   ],
   "outputs": [
    {
     "output_type": "stream",
     "name": "stdout",
     "text": [
      "5.0\n"
     ]
    }
   ],
   "metadata": {}
  },
  {
   "cell_type": "code",
   "execution_count": 11,
   "source": [
    "import matplotlib.pyplot as plt\r\n",
    "\r\n",
    "img = input_train_data[0].reshape(28, 28)\r\n",
    "plt.imshow(img, cmap='gray')\r\n",
    "plt.show()"
   ],
   "outputs": [
    {
     "output_type": "display_data",
     "data": {
      "text/plain": [
       "<Figure size 432x288 with 1 Axes>"
      ],
      "image/png": "[encoded data removed]"
     },
     "metadata": {
      "needs_background": "light"
     }
    }
   ],
   "metadata": {}
  },
  {
   "cell_type": "code",
   "execution_count": null,
   "source": [
    "def sigmoid(x):\r\n",
    "    return 1 / (1 + np.exp(-x))"
   ],
   "outputs": [],
   "metadata": {}
  },
  {
   "cell_type": "code",
   "execution_count": 16,
   "source": [
    "def softmax(x):\r\n",
    "    exp_x = np.exp(x)\r\n",
    "    sum_exp_x = np.sum(exp_x)\r\n",
    "    y = exp_x / sum_exp_x\r\n",
    "    return y"
   ],
   "outputs": [],
   "metadata": {}
  },
  {
   "cell_type": "code",
   "execution_count": 15,
   "source": [
    "def numerical_differentiation(f, x):\r\n",
    "    delta_x = 1e-4\r\n",
    "    grad = np.zeros_like(x)\r\n",
    "    \r\n",
    "    for idx in range(x.size):\r\n",
    "        tmp_val = x[idx]\r\n",
    "\r\n",
    "        x[idx] = tmp_val + delta_x\r\n",
    "        fx1 = f(x)\r\n",
    "\r\n",
    "        x[idx] = tmp_val - delta_x\r\n",
    "        fx2 = f(x)\r\n",
    "\r\n",
    "        grad[idx] = (fx1 - fx2) / (2*delta_x)\r\n",
    "        x[idx] = tmp_val\r\n",
    "\r\n",
    "    return grad"
   ],
   "outputs": [],
   "metadata": {}
  },
  {
   "cell_type": "code",
   "execution_count": null,
   "source": [
    "class TwoLayerNet:\r\n",
    "    def __init__(self, input_size, hidden_size, output_size, learning_rate):\r\n",
    "        self.params = {}\r\n",
    "\r\n",
    "        self.params['W1'] = np.random.rand(input_size, hidden_size)\r\n",
    "        self.params['b1'] = np.zeros(hidden_size)\r\n",
    "        self.params['W2'] = np.random.rand(hidden_size, output_size)\r\n",
    "        self.params['b2'] = np.zeros(output_size)\r\n",
    "        self.learning_rate = learning_rate\r\n",
    "\r\n",
    "        print(\"Two Layer Network object is now created!\")\r\n",
    "    \r\n",
    "    def feed_forward(self, x, t):\r\n",
    "        delta = 1e-7\r\n",
    "\r\n",
    "        W1, W2 = self.params['W1'], self.params['W2']\r\n",
    "        b1, b2 = self.params['b1'], self.params['b2']\r\n",
    "\r\n",
    "        Z1 = np.dot(x, W1) + b1\r\n",
    "        A1 = sigmoid(Z1)\r\n",
    "\r\n",
    "        Z2 = np.dot(A1, W2) + b2\r\n",
    "        y = A2 = softmax(Z2)\r\n",
    "        \r\n",
    "        return -np.sum( t*np.log(y+delta) + (1-t)*np.log((1-y)+delta) )\r\n",
    "    \r\n",
    "    def loss_function(self, x, t):\r\n",
    "        delta = 1e-7\r\n",
    "\r\n",
    "        W1, W2 = self.params['W1'], self.params['W2']\r\n",
    "        b1, b2 = self.params['b1'], self.params['b2']\r\n",
    "\r\n",
    "        Z1 = np.dot(x, W1) + b1\r\n",
    "        A1 = sigmoid(Z1)\r\n",
    "\r\n",
    "        Z2 = np.dot(A1, W2) + b2\r\n",
    "        y = A2 = softmax(Z2)\r\n",
    "        \r\n",
    "        return -np.sum( t*np.log(y+delta) + (1-t)*np.log((1-y)+delta) )\r\n",
    "\r\n",
    "    def train(self, x, t):\r\n",
    "        f = lambda x : self.loss_function(x, t)\r\n",
    "\r\n",
    "        self.params['W1'] -= self.learning_rate * numerical_differentiation(f, self.params['W1'])\r\n",
    "        self.params['b1'] -= self.learning_rate * numerical_differentiation(f, self.params['b1'])\r\n",
    "        self.params['W2'] -= self.learning_rate * numerical_differentiation(f, self.params['W2'])\r\n",
    "        self.params['b2'] -= self.learning_rate * numerical_differentiation(f, self.params['b2'])\r\n",
    "\r\n",
    "    def predict(self, x):\r\n",
    "        W1, W2 = self.params['W1'], self.params['W2']\r\n",
    "        b1, b2 = self.params['b1'], self.params['b2']\r\n",
    "\r\n",
    "        Z1 = np.dot(x, W1) + b1\r\n",
    "        A1 = sigmoid(Z1)\r\n",
    "\r\n",
    "        Z2 = np.dot(A1, W2) + b2\r\n",
    "        y = A2 = softmax(Z2)\r\n",
    "\r\n",
    "        predicted_num = np.argmax(y, axis=1)\r\n",
    "\r\n",
    "        return predicted_num\r\n",
    "\r\n",
    "    def accuracy(self, x, t):\r\n",
    "        y = self.predict(x)\r\n",
    "        t = np.argmax(t, axis=1)\r\n",
    "\r\n",
    "        accuracy = np.sum(y == t) / float(x.shape[0])\r\n",
    "        return accuracy"
   ],
   "outputs": [],
   "metadata": {}
  },
  {
   "cell_type": "code",
   "execution_count": null,
   "source": [
    "from datetime import datetime\r\n",
    "\r\n",
    "net = TwoLayerNet(input_size=784, hidden_size=50, output_size=10, learning_rate=0.01)\r\n",
    "epochs = 1\r\n",
    "train_size = input_train_data.shape[0]\r\n",
    "batch_size = 100\r\n",
    "\r\n",
    "start_time = datetime.now()\r\n",
    "\r\n",
    "for step in range(epochs):\r\n",
    "\r\n",
    "    batch_mask = np.random.choice(train_size, batch_size)\r\n",
    "    input_batch = input_train_data[batch_mask]\r\n",
    "    target_batch = target_train_data[batch_mask]\r\n",
    "\r\n",
    "    for index in range(len(train_data)):\r\n",
    "\r\n",
    "        net.train(input_train_data, target_train_data)\r\n",
    "\r\n",
    "        if(index % 200 == 0):\r\n",
    "            print(\"step = \", step, \"loss value = \", net.loss_function())\r\n",
    "            \r\n"
   ],
   "outputs": [],
   "metadata": {}
  }
 ],
 "metadata": {
  "orig_nbformat": 4,
  "language_info": {
   "name": "python"
  }
 },
 "nbformat": 4,
 "nbformat_minor": 2
}