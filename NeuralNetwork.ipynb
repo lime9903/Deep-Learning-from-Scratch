{
 "cells": [
  {
   "cell_type": "code",
   "execution_count": null,
   "source": [
    "import numpy as np\r\n",
    "\r\n",
    "def init_network():\r\n",
    "    network = {}   # 딕셔너리 변수 생성\r\n",
    "    network['W1'] = np.array([[0.1, 0.3, 0.5], [0.2, 0.4, 0.6]])\r\n",
    "    network['b1'] = np.array([0.1, 0.2, 0.3])\r\n",
    "    network['W2'] = np.array([[0.1, 0.4], [0.2, 0.5], [0.3, 0.6]])\r\n",
    "    network['b2'] = np.array([0.1, 0.2])\r\n",
    "    network['W3'] = np.array([[0.1, 0.3], [0.2, 0.4]])\r\n",
    "    network['b3'] = np.array([0.1, 0.2])\r\n",
    "\r\n",
    "    return network"
   ],
   "outputs": [],
   "metadata": {}
  },
  {
   "cell_type": "code",
   "execution_count": null,
   "source": [
    "def sigmoid(x):\r\n",
    "    return 1 / (1 + np.exp(-x))"
   ],
   "outputs": [],
   "metadata": {}
  },
  {
   "cell_type": "code",
   "execution_count": null,
   "source": [
    "def identity_function(x):\r\n",
    "    return x"
   ],
   "outputs": [],
   "metadata": {}
  },
  {
   "cell_type": "code",
   "execution_count": null,
   "source": [
    "def forward(network, x):\r\n",
    "    W1, W2, W3 = network['W1'], network['W2'], network['W3']\r\n",
    "    b1, b2, b3 = network['b1'], network['b2'], network['b3']\r\n",
    "\r\n",
    "    A1 = np.dot(x, W1) + b1\r\n",
    "    Z1 = sigmoid(A1)\r\n",
    "\r\n",
    "    A2 = np.dot(Z1, W2) + b2\r\n",
    "    Z2 = sigmoid(A2)\r\n",
    "\r\n",
    "    A3 = np.dot(Z2, W3) + b3\r\n",
    "    y = Z3 = identity_function(A3)\r\n",
    "\r\n",
    "    return y"
   ],
   "outputs": [],
   "metadata": {}
  },
  {
   "cell_type": "code",
   "execution_count": null,
   "source": [
    "network = init_network()\r\n",
    "x = np.array([1.0, 0.5])  # input\r\n",
    "y = forward(network, x)\r\n",
    "print(y)"
   ],
   "outputs": [],
   "metadata": {}
  }
 ],
 "metadata": {
  "orig_nbformat": 4,
  "language_info": {
   "name": "python"
  }
 },
 "nbformat": 4,
 "nbformat_minor": 2
}